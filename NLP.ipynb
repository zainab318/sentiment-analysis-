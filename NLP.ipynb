{
 "cells": [
  {
   "cell_type": "code",
   "execution_count": 2,
   "id": "437f5a5b",
   "metadata": {},
   "outputs": [
    {
     "name": "stderr",
     "output_type": "stream",
     "text": [
      "[nltk_data] Downloading package stopwords to\n",
      "[nltk_data]     C:\\Users\\Admin\\AppData\\Roaming\\nltk_data...\n",
      "[nltk_data]   Unzipping corpora\\stopwords.zip.\n",
      "[nltk_data] Downloading package punkt to\n",
      "[nltk_data]     C:\\Users\\Admin\\AppData\\Roaming\\nltk_data...\n",
      "[nltk_data]   Unzipping tokenizers\\punkt.zip.\n",
      "[nltk_data] Downloading package punkt_tab to\n",
      "[nltk_data]     C:\\Users\\Admin\\AppData\\Roaming\\nltk_data...\n",
      "[nltk_data]   Unzipping tokenizers\\punkt_tab.zip.\n"
     ]
    },
    {
     "data": {
      "text/plain": [
       "True"
      ]
     },
     "execution_count": 2,
     "metadata": {},
     "output_type": "execute_result"
    }
   ],
   "source": [
    "import nltk\n",
    "nltk.download('stopwords')\n",
    "nltk.download('punkt')\n",
    "nltk.download('punkt_tab')"
   ]
  },
  {
   "cell_type": "code",
   "execution_count": 3,
   "id": "fa1b6f41",
   "metadata": {},
   "outputs": [],
   "source": [
    "import pandas as pd\n",
    "import re # for regular expressions\n",
    "from nltk.corpus import stopwords\n",
    "from nltk.tokenize import word_tokenize"
   ]
  },
  {
   "cell_type": "code",
   "execution_count": 4,
   "id": "9f7cfdc6",
   "metadata": {},
   "outputs": [
    {
     "name": "stdout",
     "output_type": "stream",
     "text": [
      "\u001b[38;5;2m✔ Download and installation successful\u001b[0m\n",
      "You can now load the package via spacy.load('en_core_web_sm')\n",
      "\u001b[38;5;3m⚠ Restart to reload dependencies\u001b[0m\n",
      "If you are in a Jupyter or Colab notebook, you may need to restart Python in\n",
      "order to load all the package's dependencies. You can do this by selecting the\n",
      "'Restart kernel' or 'Restart runtime' option.\n"
     ]
    }
   ],
   "source": [
    "# Load the small English model for spaCy\n",
    "import spacy\n",
    "spacy.cli.download(\"en_core_web_sm\")\n",
    "nlp = spacy.load(\"en_core_web_sm\")"
   ]
  },
  {
   "cell_type": "code",
   "execution_count": 6,
   "id": "5c19dc6a",
   "metadata": {},
   "outputs": [
    {
     "name": "stdout",
     "output_type": "stream",
     "text": [
      "First 5 rows of the dataset:\n"
     ]
    },
    {
     "data": {
      "text/html": [
       "<div>\n",
       "<style scoped>\n",
       "    .dataframe tbody tr th:only-of-type {\n",
       "        vertical-align: middle;\n",
       "    }\n",
       "\n",
       "    .dataframe tbody tr th {\n",
       "        vertical-align: top;\n",
       "    }\n",
       "\n",
       "    .dataframe thead th {\n",
       "        text-align: right;\n",
       "    }\n",
       "</style>\n",
       "<table border=\"1\" class=\"dataframe\">\n",
       "  <thead>\n",
       "    <tr style=\"text-align: right;\">\n",
       "      <th></th>\n",
       "      <th>review</th>\n",
       "      <th>sentiment</th>\n",
       "    </tr>\n",
       "  </thead>\n",
       "  <tbody>\n",
       "    <tr>\n",
       "      <th>0</th>\n",
       "      <td>One of the other reviewers has mentioned that after watching just 1 Oz episode you'll be hooked. They are right, as this is exactly what happened with me.&lt;br /&gt;&lt;br /&gt;The first thing that struck me about Oz was its brutality and unflinching scenes of violence, which set in right from the word GO. Trust me, this is not a show for the faint hearted or timid. This show pulls no punches with regards to drugs, sex or violence. Its is hardcore, in the classic use of the word.&lt;br /&gt;&lt;br /&gt;It is called OZ as that is the nickname given to the Oswald Maximum Security State Penitentary. It focuses mainly on Emerald City, an experimental section of the prison where all the cells have glass fronts and face inwards, so privacy is not high on the agenda. Em City is home to many..Aryans, Muslims, gangstas, Latinos, Christians, Italians, Irish and more....so scuffles, death stares, dodgy dealings and shady agreements are never far away.&lt;br /&gt;&lt;br /&gt;I would say the main appeal of the show is due to the fact that it goes where other shows wouldn't dare. Forget pretty pictures painted for mainstream audiences, forget charm, forget romance...OZ doesn't mess around. The first episode I ever saw struck me as so nasty it was surreal, I couldn't say I was ready for it, but as I watched more, I developed a taste for Oz, and got accustomed to the high levels of graphic violence. Not just violence, but injustice (crooked guards who'll be sold out for a nickel, inmates who'll kill on order and get away with it, well mannered, middle class inmates being turned into prison bitches due to their lack of street skills or prison experience) Watching Oz, you may become comfortable with what is uncomfortable viewing....thats if you can get in touch with your darker side.</td>\n",
       "      <td>positive</td>\n",
       "    </tr>\n",
       "    <tr>\n",
       "      <th>1</th>\n",
       "      <td>A wonderful little production. &lt;br /&gt;&lt;br /&gt;The filming technique is very unassuming- very old-time-BBC fashion and gives a comforting, and sometimes discomforting, sense of realism to the entire piece. &lt;br /&gt;&lt;br /&gt;The actors are extremely well chosen- Michael Sheen not only \"has got all the polari\" but he has all the voices down pat too! You can truly see the seamless editing guided by the references to Williams' diary entries, not only is it well worth the watching but it is a terrificly written and performed piece. A masterful production about one of the great master's of comedy and his life. &lt;br /&gt;&lt;br /&gt;The realism really comes home with the little things: the fantasy of the guard which, rather than use the traditional 'dream' techniques remains solid then disappears. It plays on our knowledge and our senses, particularly with the scenes concerning Orton and Halliwell and the sets (particularly of their flat with Halliwell's murals decorating every surface) are terribly well done.</td>\n",
       "      <td>positive</td>\n",
       "    </tr>\n",
       "    <tr>\n",
       "      <th>2</th>\n",
       "      <td>I thought this was a wonderful way to spend time on a too hot summer weekend, sitting in the air conditioned theater and watching a light-hearted comedy. The plot is simplistic, but the dialogue is witty and the characters are likable (even the well bread suspected serial killer). While some may be disappointed when they realize this is not Match Point 2: Risk Addiction, I thought it was proof that Woody Allen is still fully in control of the style many of us have grown to love.&lt;br /&gt;&lt;br /&gt;This was the most I'd laughed at one of Woody's comedies in years (dare I say a decade?). While I've never been impressed with Scarlet Johanson, in this she managed to tone down her \"sexy\" image and jumped right into a average, but spirited young woman.&lt;br /&gt;&lt;br /&gt;This may not be the crown jewel of his career, but it was wittier than \"Devil Wears Prada\" and more interesting than \"Superman\" a great comedy to go see with friends.</td>\n",
       "      <td>positive</td>\n",
       "    </tr>\n",
       "    <tr>\n",
       "      <th>3</th>\n",
       "      <td>Basically there's a family where a little boy (Jake) thinks there's a zombie in his closet &amp; his parents are fighting all the time.&lt;br /&gt;&lt;br /&gt;This movie is slower than a soap opera... and suddenly, Jake decides to become Rambo and kill the zombie.&lt;br /&gt;&lt;br /&gt;OK, first of all when you're going to make a film you must Decide if its a thriller or a drama! As a drama the movie is watchable. Parents are divorcing &amp; arguing like in real life. And then we have Jake with his closet which totally ruins all the film! I expected to see a BOOGEYMAN similar movie, and instead i watched a drama with some meaningless thriller spots.&lt;br /&gt;&lt;br /&gt;3 out of 10 just for the well playing parents &amp; descent dialogs. As for the shots with Jake: just ignore them.</td>\n",
       "      <td>negative</td>\n",
       "    </tr>\n",
       "    <tr>\n",
       "      <th>4</th>\n",
       "      <td>Petter Mattei's \"Love in the Time of Money\" is a visually stunning film to watch. Mr. Mattei offers us a vivid portrait about human relations. This is a movie that seems to be telling us what money, power and success do to people in the different situations we encounter. &lt;br /&gt;&lt;br /&gt;This being a variation on the Arthur Schnitzler's play about the same theme, the director transfers the action to the present time New York where all these different characters meet and connect. Each one is connected in one way, or another to the next person, but no one seems to know the previous point of contact. Stylishly, the film has a sophisticated luxurious look. We are taken to see how these people live and the world they live in their own habitat.&lt;br /&gt;&lt;br /&gt;The only thing one gets out of all these souls in the picture is the different stages of loneliness each one inhabits. A big city is not exactly the best place in which human relations find sincere fulfillment, as one discerns is the case with most of the people we encounter.&lt;br /&gt;&lt;br /&gt;The acting is good under Mr. Mattei's direction. Steve Buscemi, Rosario Dawson, Carol Kane, Michael Imperioli, Adrian Grenier, and the rest of the talented cast, make these characters come alive.&lt;br /&gt;&lt;br /&gt;We wish Mr. Mattei good luck and await anxiously for his next work.</td>\n",
       "      <td>positive</td>\n",
       "    </tr>\n",
       "  </tbody>\n",
       "</table>\n",
       "</div>"
      ],
      "text/plain": [
       "                                                                                                                                                                                                                                                                                                                                                                                                                                                                                                                                                                                                                                                                                                                                                                                                                                                                                                                                                                                                                                                                                                                                                                                                                                                                                                                                                                                                                                                                                                                                                                                                                                                                                                                                                                                                                              review  \\\n",
       "0  One of the other reviewers has mentioned that after watching just 1 Oz episode you'll be hooked. They are right, as this is exactly what happened with me.<br /><br />The first thing that struck me about Oz was its brutality and unflinching scenes of violence, which set in right from the word GO. Trust me, this is not a show for the faint hearted or timid. This show pulls no punches with regards to drugs, sex or violence. Its is hardcore, in the classic use of the word.<br /><br />It is called OZ as that is the nickname given to the Oswald Maximum Security State Penitentary. It focuses mainly on Emerald City, an experimental section of the prison where all the cells have glass fronts and face inwards, so privacy is not high on the agenda. Em City is home to many..Aryans, Muslims, gangstas, Latinos, Christians, Italians, Irish and more....so scuffles, death stares, dodgy dealings and shady agreements are never far away.<br /><br />I would say the main appeal of the show is due to the fact that it goes where other shows wouldn't dare. Forget pretty pictures painted for mainstream audiences, forget charm, forget romance...OZ doesn't mess around. The first episode I ever saw struck me as so nasty it was surreal, I couldn't say I was ready for it, but as I watched more, I developed a taste for Oz, and got accustomed to the high levels of graphic violence. Not just violence, but injustice (crooked guards who'll be sold out for a nickel, inmates who'll kill on order and get away with it, well mannered, middle class inmates being turned into prison bitches due to their lack of street skills or prison experience) Watching Oz, you may become comfortable with what is uncomfortable viewing....thats if you can get in touch with your darker side.   \n",
       "1                                                                                                                                                                                                                                                                                                                                                                                                                                                                                                                                                                                                                                                                                                                                                                                             A wonderful little production. <br /><br />The filming technique is very unassuming- very old-time-BBC fashion and gives a comforting, and sometimes discomforting, sense of realism to the entire piece. <br /><br />The actors are extremely well chosen- Michael Sheen not only \"has got all the polari\" but he has all the voices down pat too! You can truly see the seamless editing guided by the references to Williams' diary entries, not only is it well worth the watching but it is a terrificly written and performed piece. A masterful production about one of the great master's of comedy and his life. <br /><br />The realism really comes home with the little things: the fantasy of the guard which, rather than use the traditional 'dream' techniques remains solid then disappears. It plays on our knowledge and our senses, particularly with the scenes concerning Orton and Halliwell and the sets (particularly of their flat with Halliwell's murals decorating every surface) are terribly well done.   \n",
       "2                                                                                                                                                                                                                                                                                                                                                                                                                                                                                                                                                                                                                                                                                                                                                                                                                                                                     I thought this was a wonderful way to spend time on a too hot summer weekend, sitting in the air conditioned theater and watching a light-hearted comedy. The plot is simplistic, but the dialogue is witty and the characters are likable (even the well bread suspected serial killer). While some may be disappointed when they realize this is not Match Point 2: Risk Addiction, I thought it was proof that Woody Allen is still fully in control of the style many of us have grown to love.<br /><br />This was the most I'd laughed at one of Woody's comedies in years (dare I say a decade?). While I've never been impressed with Scarlet Johanson, in this she managed to tone down her \"sexy\" image and jumped right into a average, but spirited young woman.<br /><br />This may not be the crown jewel of his career, but it was wittier than \"Devil Wears Prada\" and more interesting than \"Superman\" a great comedy to go see with friends.   \n",
       "3                                                                                                                                                                                                                                                                                                                                                                                                                                                                                                                                                                                                                                                                                                                                                                                                                                                                                                                                                                                                                                                       Basically there's a family where a little boy (Jake) thinks there's a zombie in his closet & his parents are fighting all the time.<br /><br />This movie is slower than a soap opera... and suddenly, Jake decides to become Rambo and kill the zombie.<br /><br />OK, first of all when you're going to make a film you must Decide if its a thriller or a drama! As a drama the movie is watchable. Parents are divorcing & arguing like in real life. And then we have Jake with his closet which totally ruins all the film! I expected to see a BOOGEYMAN similar movie, and instead i watched a drama with some meaningless thriller spots.<br /><br />3 out of 10 just for the well playing parents & descent dialogs. As for the shots with Jake: just ignore them.   \n",
       "4                                                                                                                                                                                                                                                                                                                                                                                                                                                              Petter Mattei's \"Love in the Time of Money\" is a visually stunning film to watch. Mr. Mattei offers us a vivid portrait about human relations. This is a movie that seems to be telling us what money, power and success do to people in the different situations we encounter. <br /><br />This being a variation on the Arthur Schnitzler's play about the same theme, the director transfers the action to the present time New York where all these different characters meet and connect. Each one is connected in one way, or another to the next person, but no one seems to know the previous point of contact. Stylishly, the film has a sophisticated luxurious look. We are taken to see how these people live and the world they live in their own habitat.<br /><br />The only thing one gets out of all these souls in the picture is the different stages of loneliness each one inhabits. A big city is not exactly the best place in which human relations find sincere fulfillment, as one discerns is the case with most of the people we encounter.<br /><br />The acting is good under Mr. Mattei's direction. Steve Buscemi, Rosario Dawson, Carol Kane, Michael Imperioli, Adrian Grenier, and the rest of the talented cast, make these characters come alive.<br /><br />We wish Mr. Mattei good luck and await anxiously for his next work.   \n",
       "\n",
       "  sentiment  \n",
       "0  positive  \n",
       "1  positive  \n",
       "2  positive  \n",
       "3  negative  \n",
       "4  positive  "
      ]
     },
     "metadata": {},
     "output_type": "display_data"
    }
   ],
   "source": [
    "# Set pandas to display full text for better inspection\n",
    "pd.set_option('display.max_colwidth', None)\n",
    "\n",
    "# Load the dataset from the CSV file\n",
    "try:\n",
    "    df = pd.read_csv('IMDB_dataset.csv')\n",
    "except FileNotFoundError:\n",
    "    print(\"Error: 'IMDB_dataset.csv' not found. Make sure it's in the same folder as this notebook.\")\n",
    "\n",
    "# Display the first 5 rows and some info\n",
    "print(\"First 5 rows of the dataset:\")\n",
    "display(df.head())"
   ]
  },
  {
   "cell_type": "code",
   "execution_count": 7,
   "id": "1a5816c1",
   "metadata": {},
   "outputs": [
    {
     "name": "stdout",
     "output_type": "stream",
     "text": [
      "\n",
      "Dataset Information:\n",
      "<class 'pandas.core.frame.DataFrame'>\n",
      "RangeIndex: 50000 entries, 0 to 49999\n",
      "Data columns (total 2 columns):\n",
      " #   Column     Non-Null Count  Dtype \n",
      "---  ------     --------------  ----- \n",
      " 0   review     50000 non-null  object\n",
      " 1   sentiment  50000 non-null  object\n",
      "dtypes: object(2)\n",
      "memory usage: 781.4+ KB\n"
     ]
    }
   ],
   "source": [
    "print(\"\\nDataset Information:\")\n",
    "df.info()"
   ]
  },
  {
   "cell_type": "code",
   "execution_count": 8,
   "id": "d7032459",
   "metadata": {},
   "outputs": [
    {
     "name": "stdout",
     "output_type": "stream",
     "text": [
      "\n",
      "Sentiment Distribution:\n",
      "sentiment\n",
      "positive    25000\n",
      "negative    25000\n",
      "Name: count, dtype: int64\n"
     ]
    }
   ],
   "source": [
    "print(\"\\nSentiment Distribution:\")\n",
    "print(df['sentiment'].value_counts())"
   ]
  },
  {
   "cell_type": "code",
   "execution_count": 9,
   "id": "bc655c88",
   "metadata": {},
   "outputs": [
    {
     "data": {
      "text/plain": [
       "{'a',\n",
       " 'about',\n",
       " 'above',\n",
       " 'after',\n",
       " 'again',\n",
       " 'against',\n",
       " 'ain',\n",
       " 'all',\n",
       " 'am',\n",
       " 'an',\n",
       " 'and',\n",
       " 'any',\n",
       " 'are',\n",
       " 'aren',\n",
       " \"aren't\",\n",
       " 'as',\n",
       " 'at',\n",
       " 'be',\n",
       " 'because',\n",
       " 'been',\n",
       " 'before',\n",
       " 'being',\n",
       " 'below',\n",
       " 'between',\n",
       " 'both',\n",
       " 'but',\n",
       " 'by',\n",
       " 'can',\n",
       " 'couldn',\n",
       " \"couldn't\",\n",
       " 'd',\n",
       " 'did',\n",
       " 'didn',\n",
       " \"didn't\",\n",
       " 'do',\n",
       " 'does',\n",
       " 'doesn',\n",
       " \"doesn't\",\n",
       " 'doing',\n",
       " 'don',\n",
       " \"don't\",\n",
       " 'down',\n",
       " 'during',\n",
       " 'each',\n",
       " 'few',\n",
       " 'for',\n",
       " 'from',\n",
       " 'further',\n",
       " 'had',\n",
       " 'hadn',\n",
       " \"hadn't\",\n",
       " 'has',\n",
       " 'hasn',\n",
       " \"hasn't\",\n",
       " 'have',\n",
       " 'haven',\n",
       " \"haven't\",\n",
       " 'having',\n",
       " 'he',\n",
       " \"he'd\",\n",
       " \"he'll\",\n",
       " \"he's\",\n",
       " 'her',\n",
       " 'here',\n",
       " 'hers',\n",
       " 'herself',\n",
       " 'him',\n",
       " 'himself',\n",
       " 'his',\n",
       " 'how',\n",
       " 'i',\n",
       " \"i'd\",\n",
       " \"i'll\",\n",
       " \"i'm\",\n",
       " \"i've\",\n",
       " 'if',\n",
       " 'in',\n",
       " 'into',\n",
       " 'is',\n",
       " 'isn',\n",
       " \"isn't\",\n",
       " 'it',\n",
       " \"it'd\",\n",
       " \"it'll\",\n",
       " \"it's\",\n",
       " 'its',\n",
       " 'itself',\n",
       " 'just',\n",
       " 'll',\n",
       " 'm',\n",
       " 'ma',\n",
       " 'me',\n",
       " 'mightn',\n",
       " \"mightn't\",\n",
       " 'more',\n",
       " 'most',\n",
       " 'mustn',\n",
       " \"mustn't\",\n",
       " 'my',\n",
       " 'myself',\n",
       " 'needn',\n",
       " \"needn't\",\n",
       " 'no',\n",
       " 'nor',\n",
       " 'not',\n",
       " 'now',\n",
       " 'o',\n",
       " 'of',\n",
       " 'off',\n",
       " 'on',\n",
       " 'once',\n",
       " 'only',\n",
       " 'or',\n",
       " 'other',\n",
       " 'our',\n",
       " 'ours',\n",
       " 'ourselves',\n",
       " 'out',\n",
       " 'over',\n",
       " 'own',\n",
       " 're',\n",
       " 's',\n",
       " 'same',\n",
       " 'shan',\n",
       " \"shan't\",\n",
       " 'she',\n",
       " \"she'd\",\n",
       " \"she'll\",\n",
       " \"she's\",\n",
       " 'should',\n",
       " \"should've\",\n",
       " 'shouldn',\n",
       " \"shouldn't\",\n",
       " 'so',\n",
       " 'some',\n",
       " 'such',\n",
       " 't',\n",
       " 'than',\n",
       " 'that',\n",
       " \"that'll\",\n",
       " 'the',\n",
       " 'their',\n",
       " 'theirs',\n",
       " 'them',\n",
       " 'themselves',\n",
       " 'then',\n",
       " 'there',\n",
       " 'these',\n",
       " 'they',\n",
       " \"they'd\",\n",
       " \"they'll\",\n",
       " \"they're\",\n",
       " \"they've\",\n",
       " 'this',\n",
       " 'those',\n",
       " 'through',\n",
       " 'to',\n",
       " 'too',\n",
       " 'under',\n",
       " 'until',\n",
       " 'up',\n",
       " 've',\n",
       " 'very',\n",
       " 'was',\n",
       " 'wasn',\n",
       " \"wasn't\",\n",
       " 'we',\n",
       " \"we'd\",\n",
       " \"we'll\",\n",
       " \"we're\",\n",
       " \"we've\",\n",
       " 'were',\n",
       " 'weren',\n",
       " \"weren't\",\n",
       " 'what',\n",
       " 'when',\n",
       " 'where',\n",
       " 'which',\n",
       " 'while',\n",
       " 'who',\n",
       " 'whom',\n",
       " 'why',\n",
       " 'will',\n",
       " 'with',\n",
       " 'won',\n",
       " \"won't\",\n",
       " 'wouldn',\n",
       " \"wouldn't\",\n",
       " 'y',\n",
       " 'you',\n",
       " \"you'd\",\n",
       " \"you'll\",\n",
       " \"you're\",\n",
       " \"you've\",\n",
       " 'your',\n",
       " 'yours',\n",
       " 'yourself',\n",
       " 'yourselves'}"
      ]
     },
     "execution_count": 9,
     "metadata": {},
     "output_type": "execute_result"
    }
   ],
   "source": [
    "# Get the list of English stop words\n",
    "stop_words = set(stopwords.words('english'))\n",
    "stop_words"
   ]
  },
  {
   "cell_type": "code",
   "execution_count": 10,
   "id": "f5830206",
   "metadata": {},
   "outputs": [],
   "source": [
    "def preprocess_text(text):\n",
    "    \"\"\"\n",
    "    Cleans and preprocesses a single text string.\n",
    "    1. Removes HTML tags\n",
    "    2. Lowercases text\n",
    "    3. Removes punctuation and numbers\n",
    "    4. Tokenizes text\n",
    "    5. Removes stop words\n",
    "    6. Lemmatizes words\n",
    "    \"\"\"\n",
    "    text = re.sub(r'<.*?>', '', text)\n",
    "    text = text.lower()\n",
    "    text = re.sub(r'[^a-z\\s]', '', text)\n",
    "    tokens = word_tokenize(text)\n",
    "    tokens = [word for word in tokens if word not in stop_words]\n",
    "    \n",
    "    # Lemmatization is often better than stemming\n",
    "    text = ' '.join(tokens)\n",
    "    doc = nlp(text)\n",
    "    lemmatized_tokens = [token.lemma_ for token in doc]\n",
    "    \n",
    "    return ' '.join(lemmatized_tokens)"
   ]
  },
  {
   "cell_type": "code",
   "execution_count": 11,
   "id": "e7d19ebe",
   "metadata": {},
   "outputs": [
    {
     "name": "stdout",
     "output_type": "stream",
     "text": [
      "preprocessing all 50,000 reviews\n",
      "preprocessing complete\n",
      "\n",
      "comparing original and cleaned reviews\n"
     ]
    },
    {
     "data": {
      "text/html": [
       "<div>\n",
       "<style scoped>\n",
       "    .dataframe tbody tr th:only-of-type {\n",
       "        vertical-align: middle;\n",
       "    }\n",
       "\n",
       "    .dataframe tbody tr th {\n",
       "        vertical-align: top;\n",
       "    }\n",
       "\n",
       "    .dataframe thead th {\n",
       "        text-align: right;\n",
       "    }\n",
       "</style>\n",
       "<table border=\"1\" class=\"dataframe\">\n",
       "  <thead>\n",
       "    <tr style=\"text-align: right;\">\n",
       "      <th></th>\n",
       "      <th>review</th>\n",
       "      <th>cleaned_review</th>\n",
       "    </tr>\n",
       "  </thead>\n",
       "  <tbody>\n",
       "    <tr>\n",
       "      <th>34670</th>\n",
       "      <td>OK first of all the video looks like it was filmed in the 80s I was shocked to find out it was released in 2001. Secondly the plot was all over the place, right off the bat the story is confusing. Had there been some brief prologue or introduction the story would've been better. Also I appreciate fantasy but this film was too much. It was bizarre and badly filmed. The scenes did not flow smoothly and the characters were odd. It was hard to follow and maybe it was the translation but it was even hard to understand. I love Chinese epic films but if you're looking for a Chinese epic fantasy film i would recommend the Promise (visually stunning, the plot is interesting and good character development) not this film. Beware you will be disappointed.</td>\n",
       "      <td>ok first video look like film shocked find release secondly plot place right bat story confuse brief prologue introduction story would ve well also appreciate fantasy film much bizarre badly film scene flow smoothly character odd hard follow maybe translation even hard understand love chinese epic film you re look chinese epic fantasy film would recommend promise visually stunning plot interesting good character development film beware disappoint</td>\n",
       "    </tr>\n",
       "    <tr>\n",
       "      <th>458</th>\n",
       "      <td>This film was basically set up for failure by the studio. One, Anne Rice (author of the book) offered to write the screen play but was refused by the studio. Two, they tried to stuff 2 in depth novels in to a 2hour movie.&lt;br /&gt;&lt;br /&gt;I maintain the only way for these two books -Vampire Lestat and Queen of the Damned- to work in a live action form would be through a mini-series. First off the the Vampire Lestat alone takes place from the 1700's to the 1980's and has a plethora of character vital to the plot understanding of the main character, Lestat. The entire book Vampire Lestat sets up the events of the second part Queen of the Damned. Without that full understanding the premise of a movie is destroyed.&lt;br /&gt;&lt;br /&gt;Lestat was not cruel and vicious to all, he was not wanting to go along with Akasha's plans, Marius did not make Lestat, Lestat did not love Jesse or make her, Lestat could not go remain unscathed by the light, Marius was not after David nor the other way around, every character was completely represented wrong, BASICALLY same names different story.&lt;br /&gt;&lt;br /&gt;If they wanted to make a vampire movie, fine. Even if you wanted to be inspired by these novels, fine. But don't piggie back into the theaters off the success of Rice's great novels and characters just to destroy what her loyal readers have come to love.&lt;br /&gt;&lt;br /&gt;If you haven't read the books you won't understand the film really, if you have read the books you will be insulted. That being said, I am such a huge fan I had to see the movie knowing full well this was going to be the case and still went for it. Catch 22, must see it, will hate it.</td>\n",
       "      <td>film basically set failure studio one anne rice author book offer write screen play refuse studio two try stuff depth novel hour moviei maintain way two book vampire lestat queen damn work live action form would miniserie first vampire lestat alone take place plethora character vital plot understand main character lestat entire book vampire lestat set event second part queen damn without full understanding premise movie destroyedlestat cruel vicious wanting go along akashas plan marius make lestat lestat love jesse make lestat could go remain unscathed light marius david way around every character completely represent wrong basically name different storyif wanted make vampire movie fine even want inspire novel fine do not piggie back theater success rice great novel character destroy loyal reader come loveif have not read book will not understand film really read book insult say huge fan see movie know full well go case still go catch must see hate</td>\n",
       "    </tr>\n",
       "    <tr>\n",
       "      <th>14019</th>\n",
       "      <td>Possibly the worst movie I ever saw. The person who shot this movie probably never learned not to film directly into a shining light. You can't see anything in this movie. It is way to dark. The parts where you can see something the camera is directed straight at a light source so you get big lens flares. So you still can't see. This movie should have been a radio play or something. Some parts of the movie are actually edited upside-down for some kind of crap effect. Low budget movies can be done so much better then this. And low budget is no excuse for this. An editor should have said something when he started editing and saw that you couldn't see anything. Maybe the makers should have spend some of their low budget on a preview monitor so they could see what they shot. The only good thing about this movie being so dark is that you can't see the awful acting. It also covers up the crappy sfx. People at beginner film schools make better movies then this. Movies shot with handy cams look better then this.</td>\n",
       "      <td>possibly bad movie ever see person shot movie probably never learn film directly shine light can not see anything movie way dark part see something camera direct straight light source get big lens flare still can not see movie radio play something part movie actually edit upsidedown kind crap effect low budget movie do much well low budget excuse editor say something start edit see could not see anything maybe maker spend low budget preview monitor could see shoot good thing movie dark can not see awful acting also cover crappy sfx people beginner film school make well movie movie shoot handy cam look well</td>\n",
       "    </tr>\n",
       "    <tr>\n",
       "      <th>20730</th>\n",
       "      <td>Maximally manipulative Anabel Sims (Betsy Drake) sets out to trap her ideal man, aided by her co-worker, Julie. Esteemed pediatrician Madison Brown (Cary Grant) goes from bemused to betrothed in the space of 90 minutes on film, but to the viewer it's all eternity. Can a movie receive less than one star? This one is a prime candidate.</td>\n",
       "      <td>maximally manipulative anabel sims betsy drake set trap ideal man aid coworker julie esteemed pediatrician madison brown cary grant go bemused betrothed space minute film viewer eternity movie receive less one star one prime candidate</td>\n",
       "    </tr>\n",
       "    <tr>\n",
       "      <th>46154</th>\n",
       "      <td>There are some nice shots in this film, it catches some of the landscapes with such a beautiful light, in fact the cinematography is probably it's best asset.&lt;br /&gt;&lt;br /&gt;But it's basically more of a made for TV movie, and although it has a lot of twists and turns in the plot, which keeps it quite interesting viewing, there are no subtitles and key plot developments are unveiled in Spanish, so non Spanish speakers will be left a little lost.&lt;br /&gt;&lt;br /&gt;I had it as a Xmas gift, as it's a family trait to work through the films of a actor we find talented, and Matthew Mconaughey was just awesome in \"A Time to kill\" , and the \"The Newton Boys \" so I expressed I wanted to see more of his work.&lt;br /&gt;&lt;br /&gt;However although it says on the DVD box it is a Matthew Mconaughey film and uses this as a marketing ploy, he has a few lines and is on screen for not very minutes at the end of the film, he is basically an extra and he doesn't exactly light up the screen while he is on, so die hard fans, really not worth it from that point of view.&lt;br /&gt;&lt;br /&gt;The films star though, Patrick McGaw is great though and very easy on the eye, and his character is just so nice and kind and caring, a true saint of a guy, he'd be well written into a ROM com.&lt;br /&gt;&lt;br /&gt;So for true Mcconaughey acting brilliance of the ones I've seen, I'd recommend, \"A Time to kill\" , \"The Newton Boys \" \"Frailty\", \"How to Lose a Guy in 10 Days\", \"Edtv\" and \"Amistad\" and avoid too \"Larger Than Life\" and \"Angels in the Outfield\" unless you feel like a kids film or have kids around as neither of these are indicative of his talent, but are quite amusing films for children, again MM is really nothing more that a supporting artist with just a few if any lines.&lt;br /&gt;&lt;br /&gt;As for Scorpion Springit's not a bad film but it also isn't screen stealing either.</td>\n",
       "      <td>nice shot film catch landscape beautiful light fact cinematography probably well assetbut basically make tv movie although lot twist turn plot keep quite interesting viewing subtitle key plot development unveil spanish non spanish speaker leave little losti xmas gift family trait work film actor find talented matthew mconaughey awesome time kill newton boy express want see workhowever although say dvd box matthew mconaughey film use marketing ploy line screen minute end film basically extra do not exactly light screen die hard fan really worth point viewthe film star though patrick mcgaw great though easy eye character nice kind care true saint guy he d well write rom comso true mcconaughey act brilliance one I ve see i d recommend time kill newton boy frailty lose guy day edtv amistad avoid large life angel outfield unless feel like kid film kid around neither indicative talent quite amusing film child mm really nothing support artist linesas scorpion springit bad film also be not screen steal either</td>\n",
       "    </tr>\n",
       "  </tbody>\n",
       "</table>\n",
       "</div>"
      ],
      "text/plain": [
       "                                                                                                                                                                                                                                                                                                                                                                                                                                                                                                                                                                                                                                                                                                                                                                                                                                                                                                                                                                                                                                                                                                                                                                                                                                                                                                                                                                                                                                                                                                                                                                                                                                                                                                                                                                                                                                                                                                      review  \\\n",
       "34670                                                                                                                                                                                                                                                                                                                                                                                                                                                                                                                                                                                                                                                                                                                                                                                                                                                                                                                                                                                                                                                                                                                      OK first of all the video looks like it was filmed in the 80s I was shocked to find out it was released in 2001. Secondly the plot was all over the place, right off the bat the story is confusing. Had there been some brief prologue or introduction the story would've been better. Also I appreciate fantasy but this film was too much. It was bizarre and badly filmed. The scenes did not flow smoothly and the characters were odd. It was hard to follow and maybe it was the translation but it was even hard to understand. I love Chinese epic films but if you're looking for a Chinese epic fantasy film i would recommend the Promise (visually stunning, the plot is interesting and good character development) not this film. Beware you will be disappointed.   \n",
       "458                                                                                                                                                                                                 This film was basically set up for failure by the studio. One, Anne Rice (author of the book) offered to write the screen play but was refused by the studio. Two, they tried to stuff 2 in depth novels in to a 2hour movie.<br /><br />I maintain the only way for these two books -Vampire Lestat and Queen of the Damned- to work in a live action form would be through a mini-series. First off the the Vampire Lestat alone takes place from the 1700's to the 1980's and has a plethora of character vital to the plot understanding of the main character, Lestat. The entire book Vampire Lestat sets up the events of the second part Queen of the Damned. Without that full understanding the premise of a movie is destroyed.<br /><br />Lestat was not cruel and vicious to all, he was not wanting to go along with Akasha's plans, Marius did not make Lestat, Lestat did not love Jesse or make her, Lestat could not go remain unscathed by the light, Marius was not after David nor the other way around, every character was completely represented wrong, BASICALLY same names different story.<br /><br />If they wanted to make a vampire movie, fine. Even if you wanted to be inspired by these novels, fine. But don't piggie back into the theaters off the success of Rice's great novels and characters just to destroy what her loyal readers have come to love.<br /><br />If you haven't read the books you won't understand the film really, if you have read the books you will be insulted. That being said, I am such a huge fan I had to see the movie knowing full well this was going to be the case and still went for it. Catch 22, must see it, will hate it.   \n",
       "14019                                                                                                                                                                                                                                                                                                                                                                                                                                                                                                                                                                                                                                                                                                                                                                                                                                            Possibly the worst movie I ever saw. The person who shot this movie probably never learned not to film directly into a shining light. You can't see anything in this movie. It is way to dark. The parts where you can see something the camera is directed straight at a light source so you get big lens flares. So you still can't see. This movie should have been a radio play or something. Some parts of the movie are actually edited upside-down for some kind of crap effect. Low budget movies can be done so much better then this. And low budget is no excuse for this. An editor should have said something when he started editing and saw that you couldn't see anything. Maybe the makers should have spend some of their low budget on a preview monitor so they could see what they shot. The only good thing about this movie being so dark is that you can't see the awful acting. It also covers up the crappy sfx. People at beginner film schools make better movies then this. Movies shot with handy cams look better then this.   \n",
       "20730                                                                                                                                                                                                                                                                                                                                                                                                                                                                                                                                                                                                                                                                                                                                                                                                                                                                                                                                                                                                                                                                                                                                                                                                                                                                                                                                                                                                                                                                                                                                                        Maximally manipulative Anabel Sims (Betsy Drake) sets out to trap her ideal man, aided by her co-worker, Julie. Esteemed pediatrician Madison Brown (Cary Grant) goes from bemused to betrothed in the space of 90 minutes on film, but to the viewer it's all eternity. Can a movie receive less than one star? This one is a prime candidate.   \n",
       "46154  There are some nice shots in this film, it catches some of the landscapes with such a beautiful light, in fact the cinematography is probably it's best asset.<br /><br />But it's basically more of a made for TV movie, and although it has a lot of twists and turns in the plot, which keeps it quite interesting viewing, there are no subtitles and key plot developments are unveiled in Spanish, so non Spanish speakers will be left a little lost.<br /><br />I had it as a Xmas gift, as it's a family trait to work through the films of a actor we find talented, and Matthew Mconaughey was just awesome in \"A Time to kill\" , and the \"The Newton Boys \" so I expressed I wanted to see more of his work.<br /><br />However although it says on the DVD box it is a Matthew Mconaughey film and uses this as a marketing ploy, he has a few lines and is on screen for not very minutes at the end of the film, he is basically an extra and he doesn't exactly light up the screen while he is on, so die hard fans, really not worth it from that point of view.<br /><br />The films star though, Patrick McGaw is great though and very easy on the eye, and his character is just so nice and kind and caring, a true saint of a guy, he'd be well written into a ROM com.<br /><br />So for true Mcconaughey acting brilliance of the ones I've seen, I'd recommend, \"A Time to kill\" , \"The Newton Boys \" \"Frailty\", \"How to Lose a Guy in 10 Days\", \"Edtv\" and \"Amistad\" and avoid too \"Larger Than Life\" and \"Angels in the Outfield\" unless you feel like a kids film or have kids around as neither of these are indicative of his talent, but are quite amusing films for children, again MM is really nothing more that a supporting artist with just a few if any lines.<br /><br />As for Scorpion Springit's not a bad film but it also isn't screen stealing either.   \n",
       "\n",
       "                                                                                                                                                                                                                                                                                                                                                                                                                                                                                                                                                                                                                                                                                                                                                                                                                                                                                                                                                                                                                                                 cleaned_review  \n",
       "34670                                                                                                                                                                                                                                                                                                                                                                                                                                                                                                                                                                                        ok first video look like film shocked find release secondly plot place right bat story confuse brief prologue introduction story would ve well also appreciate fantasy film much bizarre badly film scene flow smoothly character odd hard follow maybe translation even hard understand love chinese epic film you re look chinese epic fantasy film would recommend promise visually stunning plot interesting good character development film beware disappoint  \n",
       "458                                                          film basically set failure studio one anne rice author book offer write screen play refuse studio two try stuff depth novel hour moviei maintain way two book vampire lestat queen damn work live action form would miniserie first vampire lestat alone take place plethora character vital plot understand main character lestat entire book vampire lestat set event second part queen damn without full understanding premise movie destroyedlestat cruel vicious wanting go along akashas plan marius make lestat lestat love jesse make lestat could go remain unscathed light marius david way around every character completely represent wrong basically name different storyif wanted make vampire movie fine even want inspire novel fine do not piggie back theater success rice great novel character destroy loyal reader come loveif have not read book will not understand film really read book insult say huge fan see movie know full well go case still go catch must see hate  \n",
       "14019                                                                                                                                                                                                                                                                                                                                                                                                                     possibly bad movie ever see person shot movie probably never learn film directly shine light can not see anything movie way dark part see something camera direct straight light source get big lens flare still can not see movie radio play something part movie actually edit upsidedown kind crap effect low budget movie do much well low budget excuse editor say something start edit see could not see anything maybe maker spend low budget preview monitor could see shoot good thing movie dark can not see awful acting also cover crappy sfx people beginner film school make well movie movie shoot handy cam look well  \n",
       "20730                                                                                                                                                                                                                                                                                                                                                                                                                                                                                                                                                                                                                                                                                                                                                                                                                maximally manipulative anabel sims betsy drake set trap ideal man aid coworker julie esteemed pediatrician madison brown cary grant go bemused betrothed space minute film viewer eternity movie receive less one star one prime candidate  \n",
       "46154  nice shot film catch landscape beautiful light fact cinematography probably well assetbut basically make tv movie although lot twist turn plot keep quite interesting viewing subtitle key plot development unveil spanish non spanish speaker leave little losti xmas gift family trait work film actor find talented matthew mconaughey awesome time kill newton boy express want see workhowever although say dvd box matthew mconaughey film use marketing ploy line screen minute end film basically extra do not exactly light screen die hard fan really worth point viewthe film star though patrick mcgaw great though easy eye character nice kind care true saint guy he d well write rom comso true mcconaughey act brilliance one I ve see i d recommend time kill newton boy frailty lose guy day edtv amistad avoid large life angel outfield unless feel like kid film kid around neither indicative talent quite amusing film child mm really nothing support artist linesas scorpion springit bad film also be not screen steal either  "
      ]
     },
     "metadata": {},
     "output_type": "display_data"
    }
   ],
   "source": [
    "print(\"preprocessing all 50,000 reviews\")\n",
    "df=df.sample(500).copy()\n",
    "df['cleaned_review']=df['review'].apply(preprocess_text)\n",
    "print (\"preprocessing complete\")\n",
    "print (\"\\ncomparing original and cleaned reviews\")\n",
    "display(df[['review','cleaned_review']].head())\n"
   ]
  },
  {
   "cell_type": "code",
   "execution_count": null,
   "id": "e3c41785",
   "metadata": {},
   "outputs": [
    {
     "name": "stdout",
     "output_type": "stream",
     "text": [
      "['review', 'sentiment']\n"
     ]
    }
   ],
   "source": [
    "import pandas as pd\n",
    "df = pd.read_csv('IMDB_dataset.csv')\n",
    "print(df.columns.tolist())"
   ]
  },
  {
   "cell_type": "code",
   "execution_count": 10,
   "id": "a0f2163d",
   "metadata": {},
   "outputs": [
    {
     "name": "stdout",
     "output_type": "stream",
     "text": [
      "Training set size: 40000\n",
      "Testing set size: 10000\n"
     ]
    }
   ],
   "source": [
    "from sklearn.model_selection import train_test_split\n",
    "\n",
    "# Map sentiment labels to 0 and 1\n",
    "df['sentiment_numeric'] = df['sentiment'].map({'positive': 1, 'negative': 0})\n",
    "\n",
    "# Define our features (X) and target (y)\n",
    "X = df['review']\n",
    "y = df['sentiment_numeric']\n",
    "\n",
    "# Split the data into training and testing sets (80% train, 20% test)\n",
    "# stratify=y ensures the train/test split has the same proportion of sentiments as the original dataset\n",
    "X_train, X_test, y_train, y_test = train_test_split(X, y, test_size=0.2, random_state=42, stratify=y)\n",
    "\n",
    "print(f\"Training set size: {len(X_train)}\")\n",
    "print(f\"Testing set size: {len(X_test)}\")"
   ]
  },
  {
   "cell_type": "code",
   "execution_count": 11,
   "id": "0304d0f0",
   "metadata": {},
   "outputs": [
    {
     "name": "stdout",
     "output_type": "stream",
     "text": [
      "Shape of the training TF-IDF matrix: (40000, 5000)\n",
      "Shape of the testing TF-IDF matrix: (10000, 5000)\n"
     ]
    }
   ],
   "source": [
    "from sklearn.feature_extraction.text import TfidfVectorizer\n",
    "\n",
    "# Initialize the TF-IDF Vectorizer\n",
    "# max_features=5000 means we only use the 5000 most common words, which is efficient\n",
    "tfidf = TfidfVectorizer(max_features=5000)\n",
    "\n",
    "# Fit the vectorizer on the training data and transform it\n",
    "X_train_tfidf = tfidf.fit_transform(X_train)\n",
    "\n",
    "# ONLY transform the test data using the already-fitted vectorizer\n",
    "X_test_tfidf = tfidf.transform(X_test)\n",
    "\n",
    "print(f\"Shape of the training TF-IDF matrix: {X_train_tfidf.shape}\")\n",
    "print(f\"Shape of the testing TF-IDF matrix: {X_test_tfidf.shape}\")"
   ]
  },
  {
   "cell_type": "code",
   "execution_count": 12,
   "id": "20653f91",
   "metadata": {},
   "outputs": [
    {
     "name": "stdout",
     "output_type": "stream",
     "text": [
      "Model training complete!\n"
     ]
    }
   ],
   "source": [
    "from sklearn.linear_model import LogisticRegression\n",
    "\n",
    "# Initialize and train the model\n",
    "# solver='liblinear' is a good choice for this type of problem\n",
    "model = LogisticRegression(solver='liblinear')\n",
    "model.fit(X_train_tfidf, y_train)\n",
    "\n",
    "print(\"Model training complete!\")"
   ]
  },
  {
   "cell_type": "code",
   "execution_count": 15,
   "id": "4e765cae",
   "metadata": {},
   "outputs": [],
   "source": [
    "import re\n",
    "from nltk.corpus import stopwords\n",
    "from nltk.tokenize import word_tokenize\n",
    "import spacy\n",
    "\n",
    "# Load spaCy model and stopwords (run these only once)\n",
    "nlp = spacy.load(\"en_core_web_sm\")\n",
    "stop_words = set(stopwords.words('english'))\n",
    "\n",
    "def preprocess_text(text):\n",
    "    # Remove HTML tags\n",
    "    text = re.sub(r'<.*?>', '', text)\n",
    "    # Lowercase\n",
    "    text = text.lower()\n",
    "    # Remove punctuation and numbers\n",
    "    text = re.sub(r'[^a-z\\s]', '', text)\n",
    "    # Tokenize\n",
    "    tokens = word_tokenize(text)\n",
    "    # Remove stopwords\n",
    "    tokens = [word for word in tokens if word not in stop_words]\n",
    "    # Lemmatize\n",
    "    text = ' '.join(tokens)\n",
    "    doc = nlp(text)\n",
    "    lemmatized_tokens = [token.lemma_ for token in doc]\n",
    "    return ' '.join(lemmatized_tokens)"
   ]
  },
  {
   "cell_type": "code",
   "execution_count": 16,
   "id": "1833556b",
   "metadata": {},
   "outputs": [
    {
     "name": "stdout",
     "output_type": "stream",
     "text": [
      "Review: 'This movie was absolutely fantastic! The acting was superb and the plot was gripping.'\n",
      "Predicted Sentiment: Positive\n",
      "\n",
      "Review: 'I was so bored throughout the entire film. It was a complete waste of time and money.'\n",
      "Predicted Sentiment: Negative\n",
      "\n",
      "Review: 'The film was okay, not great but not terrible either. Some parts were good.'\n",
      "Predicted Sentiment: Negative\n",
      "\n"
     ]
    }
   ],
   "source": [
    "def predict_sentiment(text):\n",
    "    \"\"\"\n",
    "    Takes a raw text string and predicts its sentiment using the trained model.\n",
    "    \"\"\"\n",
    "    # 1. Preprocess the text using the same function from Cell 2\n",
    "    cleaned_text = preprocess_text(text)\n",
    "    \n",
    "    # 2. Vectorize the text using the SAME fitted TF-IDF vectorizer from Cell 5\n",
    "    vectorized_text = tfidf.transform([cleaned_text])\n",
    "    \n",
    "    # 3. Predict using the trained model from Cell 6\n",
    "    prediction = model.predict(vectorized_text)\n",
    "    \n",
    "    # 4. Return the human-readable result\n",
    "    return 'Positive' if prediction[0] == 1 else 'Negative'\n",
    "\n",
    "# --- Test Cases ---\n",
    "review_1 = \"This movie was absolutely fantastic! The acting was superb and the plot was gripping.\"\n",
    "review_2 = \"I was so bored throughout the entire film. It was a complete waste of time and money.\"\n",
    "review_3 = \"The film was okay, not great but not terrible either. Some parts were good.\"\n",
    "\n",
    "print(f\"Review: '{review_1}'\\nPredicted Sentiment: {predict_sentiment(review_1)}\\n\")\n",
    "print(f\"Review: '{review_2}'\\nPredicted Sentiment: {predict_sentiment(review_2)}\\n\")\n",
    "print(f\"Review: '{review_3}'\\nPredicted Sentiment: {predict_sentiment(review_3)}\\n\")"
   ]
  },
  {
   "cell_type": "code",
   "execution_count": 17,
   "id": "b25f0cee",
   "metadata": {},
   "outputs": [
    {
     "name": "stdout",
     "output_type": "stream",
     "text": [
      "Model Accuracy: 0.8930\n",
      "\n",
      "Classification Report:\n",
      "              precision    recall  f1-score   support\n",
      "\n",
      "    Negative       0.90      0.89      0.89      5000\n",
      "    Positive       0.89      0.90      0.89      5000\n",
      "\n",
      "    accuracy                           0.89     10000\n",
      "   macro avg       0.89      0.89      0.89     10000\n",
      "weighted avg       0.89      0.89      0.89     10000\n",
      "\n"
     ]
    },
    {
     "data": {
      "image/png": "[encoded data removed]",
      "text/plain": [
       "<Figure size 600x500 with 2 Axes>"
      ]
     },
     "metadata": {},
     "output_type": "display_data"
    }
   ],
   "source": [
    "from sklearn.metrics import accuracy_score, classification_report, confusion_matrix\n",
    "import matplotlib.pyplot as plt\n",
    "import seaborn as sns\n",
    "\n",
    "# Make predictions on the test set\n",
    "y_pred = model.predict(X_test_tfidf)\n",
    "\n",
    "# Calculate accuracy\n",
    "accuracy = accuracy_score(y_test, y_pred)\n",
    "print(f\"Model Accuracy: {accuracy:.4f}\")\n",
    "\n",
    "# Print the detailed classification report\n",
    "print(\"\\nClassification Report:\")\n",
    "print(classification_report(y_test, y_pred, target_names=['Negative', 'Positive']))\n",
    "\n",
    "# Plot the confusion matrix\n",
    "cm = confusion_matrix(y_test, y_pred)\n",
    "plt.figure(figsize=(6, 5))\n",
    "sns.heatmap(cm, annot=True, fmt='d', cmap='Blues', \n",
    "            xticklabels=['Negative', 'Positive'], \n",
    "            yticklabels=['Negative', 'Positive'])\n",
    "plt.xlabel('Predicted Label')\n",
    "plt.ylabel('True Label')\n",
    "plt.title('Confusion Matrix')\n",
    "plt.show()"
   ]
  }
 ],
 "metadata": {
  "kernelspec": {
   "display_name": "venv",
   "language": "python",
   "name": "python3"
  },
  "language_info": {
   "codemirror_mode": {
    "name": "ipython",
    "version": 3
   },
   "file_extension": ".py",
   "mimetype": "text/x-python",
   "name": "python",
   "nbconvert_exporter": "python",
   "pygments_lexer": "ipython3",
   "version": "3.11.9"
  }
 },
 "nbformat": 4,
 "nbformat_minor": 5
}
